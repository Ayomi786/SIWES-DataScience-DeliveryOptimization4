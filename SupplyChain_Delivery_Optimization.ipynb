{
 "cells": [
  {
   "cell_type": "markdown",
   "id": "25aa8279",
   "metadata": {},
   "source": [
    "# Supply Chain & Delivery Route Optimization (approximate solver)\n",
    "\n",
    "This notebook generates synthetic orders and runs clustering + a nearest-neighbor + 2-opt route solver per cluster. It creates CSVs in /mnt/data and route PNG images."
   ]
  },
  {
   "cell_type": "markdown",
   "id": "8b050b9f",
   "metadata": {},
   "source": [
    "## Key metrics\n",
    "\n",
    "{\n",
    "  \"Baseline_Total_Distance_km\": 6419.84,\n",
    "  \"Optimized_Total_Distance_km\": 685.3,\n",
    "  \"Distance_Saved_km\": 5734.539,\n",
    "  \"Distance_Saving_pct\": 89.33,\n",
    "  \"Baseline_Fuel_Cost_USD\": 2888.93,\n",
    "  \"Optimized_Fuel_Cost_USD\": 308.39,\n",
    "  \"Fuel_Cost_Saved_USD\": 2580.54\n",
    "}"
   ]
  },
  {
   "cell_type": "code",
   "execution_count": null,
   "id": "5fcebfde",
   "metadata": {},
   "outputs": [],
   "source": [
    "import pandas as pd\n",
    "print(pd.read_csv('/mnt/data/optimized_routes_summary.csv').head().to_string(index=False))"
   ]
  }
 ],
 "metadata": {},
 "nbformat": 4,
 "nbformat_minor": 5
}
